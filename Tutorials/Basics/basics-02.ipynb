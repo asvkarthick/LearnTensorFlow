import tensorflow as tf

x = tf.Variable(10)
y = tf.Variable(20)
z = tf.add(x, y)
print(z)

sess = tf.Session()
sess.run(tf.global_variables_initializer())
print(sess.run(z))

W = tf.Variable(100)
X = tf.Variable(3)
b = tf.Variable(5)
Y = W * X + b
sess.run(tf.global_variables_initializer())
print(sess.run(Y))
