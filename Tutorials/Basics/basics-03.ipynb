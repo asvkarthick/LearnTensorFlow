import tensorflow as tf

a = tf.placeholder(tf.int32)
b = tf.placeholder(tf.int32)
c = tf.add(a, b)

sess = tf.Session()
print(sess.run(c, feed_dict = {a:20, b:10}))
