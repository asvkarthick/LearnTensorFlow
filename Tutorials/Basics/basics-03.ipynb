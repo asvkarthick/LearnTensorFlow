{
  "nbformat": 4,
  "nbformat_minor": 0,
  "metadata": {
    "colab": {
      "name": "Tutorial-01.ipynb",
      "provenance": []
    },
    "kernelspec": {
      "name": "python3",
      "display_name": "Python 3"
    }
  },
  "cells": [
    {
      "cell_type": "code",
      "metadata": {
        "id": "9IjH0GMH5x4b",
        "colab_type": "code",
        "colab": {
          "base_uri": "https://localhost:8080/",
          "height": 68
        },
        "outputId": "dc3c3583-6e1f-4787-ecb9-50a158adbf87"
      },
      "source": [
        "import tensorflow as tf\n",
        "\n",
        "x = tf.Variable(10)\n",
        "y = tf.Variable(20)\n",
        "z = tf.add(x, y)\n",
        "print(z)\n",
        "\n",
        "sess = tf.Session()\n",
        "sess.run(tf.global_variables_initializer())\n",
        "print(sess.run(z))\n",
        "\n",
        "W = tf.Variable(100)\n",
        "X = tf.Variable(3)\n",
        "b = tf.Variable(5)\n",
        "Y = W * X + b\n",
        "sess.run(tf.global_variables_initializer())\n",
        "print(sess.run(Y))\n",
        "\n"
      ],
      "execution_count": 7,
      "outputs": [
        {
          "output_type": "stream",
          "text": [
            "Tensor(\"Add_6:0\", shape=(), dtype=int32)\n",
            "30\n",
            "305\n"
          ],
          "name": "stdout"
        }
      ]
    }
  ]
}
